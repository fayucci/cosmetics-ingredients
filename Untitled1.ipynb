{
 "cells": [
  {
   "cell_type": "code",
   "execution_count": 33,
   "metadata": {},
   "outputs": [],
   "source": [
    "import pandas as pd"
   ]
  },
  {
   "cell_type": "code",
   "execution_count": 34,
   "metadata": {},
   "outputs": [],
   "source": [
    "df = pd.read_csv('datasets/cosmetic.csv')"
   ]
  },
  {
   "cell_type": "code",
   "execution_count": 35,
   "metadata": {},
   "outputs": [],
   "source": [
    "brand_Sort = sorted(df['brand'].unique().tolist())"
   ]
  },
  {
   "cell_type": "code",
   "execution_count": 36,
   "metadata": {},
   "outputs": [
    {
     "name": "stdout",
     "output_type": "stream",
     "text": [
      "['Algenist', 'Amorepacific', 'Anthony', 'Apivita', 'Bareminerals', 'Beautybio', 'Becca', 'Belif', 'Bioeffect', 'Biossance', 'Black Up', 'Blithe', 'Bobbi Brown', 'Boscia', 'Cane + Austin', 'Caudalie', 'Charlotte Tilbury', 'Clarins', 'Clarisonic', 'Clinique', 'Coola', 'Cover Fx', 'Dermadoctor', 'Dior', 'Dr Roebuck’s', 'Dr. Brandt Skincare', 'Dr. Dennis Gross Skincare', 'Dr. Jart+', 'Drunk Elephant', 'Edible Beauty', 'Erborian', 'Erno Laszlo', 'Estée Lauder', 'Eve Lom', 'Farmacy', 'Farsáli', 'First Aid Beauty', 'Foreo', 'Fresh', 'Glamglow', 'Glow Recipe', 'Go-To', 'Guerlain', 'Herbivore', 'Hum Nutrition', 'Ilia', 'Indie Lee', 'It Cosmetics', 'J.One', 'Jack Black', 'Josie Maran', 'Kate Somerville', 'Kenzoki', \"Kiehl's\", 'Klorane', 'Koh Gen Do', 'Kopari', 'Kora Organics', 'Korres', \"L'occitane\", 'La Mer', 'Lancer', 'Lancôme', 'Laneige', 'Laura Mercier', 'Make Up For Ever', 'Mdsolarsciences', 'Milk Makeup', 'Moon Juice', 'Moroccanoil', 'Murad', 'Nars', 'Naturally Serious', 'Neogen Dermalogy', 'Nuface', 'Nurse Jamie', 'Olehenriksen', 'Omorovicza', 'Origins', 'Peace Out', 'Perricone Md', 'Peter Thomas Roth', 'Philosophy', 'Private Doctor', 'Ren Clean Skincare', 'Sand & Sky', 'Saturday Skin', 'Sephora Collection', 'Shiseido', 'Sk-II', 'Skin Inc Supplement Bar', 'Skin Laundry', 'Smashbox', 'Son & Park', 'St. Tropez Tanning Essentials', 'Summer Fridays', 'Sunday Riley', 'Supergoop!', 'Tarte', 'Tata Harper', 'Tatcha', 'Tom Ford', 'Too Cool For School', 'Too Faced', 'Urban Decay', 'Vita Liberata', 'Volition Beauty', 'Wander Beauty', 'Youth To The People']\n"
     ]
    }
   ],
   "source": [
    "print(brand_Sort)"
   ]
  },
  {
   "cell_type": "code",
   "execution_count": 37,
   "metadata": {},
   "outputs": [
    {
     "data": {
      "text/plain": [
       "Index(['label', 'brand', 'name', 'price', 'rank', 'ingredients', 'combination',\n",
       "       'dry', 'normal', 'oily', 'sensitive', 'id'],\n",
       "      dtype='object')"
      ]
     },
     "execution_count": 37,
     "metadata": {},
     "output_type": "execute_result"
    }
   ],
   "source": [
    "df.columns"
   ]
  },
  {
   "cell_type": "code",
   "execution_count": null,
   "metadata": {},
   "outputs": [],
   "source": []
  }
 ],
 "metadata": {
  "kernelspec": {
   "display_name": "Python 3",
   "language": "python",
   "name": "python3"
  },
  "language_info": {
   "codemirror_mode": {
    "name": "ipython",
    "version": 3
   },
   "file_extension": ".py",
   "mimetype": "text/x-python",
   "name": "python",
   "nbconvert_exporter": "python",
   "pygments_lexer": "ipython3",
   "version": "3.8.2"
  }
 },
 "nbformat": 4,
 "nbformat_minor": 4
}
